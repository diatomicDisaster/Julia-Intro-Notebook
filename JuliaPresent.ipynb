{
 "cells": [
  {
   "cell_type": "markdown",
   "metadata": {
    "kernel": "SoS",
    "slideshow": {
     "slide_type": "slide"
    }
   },
   "source": [
    "# Why I'm in love with Julia\n",
    "\n",
    "<img style=\"float: right;\" width=50% src=\"images/JuliaLogo.png\"/>\n",
    "\n",
    " ## An ode to dynamic dispatch"
   ]
  },
  {
   "cell_type": "code",
   "execution_count": 8,
   "metadata": {
    "kernel": "Python3",
    "slideshow": {
     "slide_type": "skip"
    }
   },
   "outputs": [],
   "source": [
    "import csv, urllib.request\n",
    "import pandas as pd\n",
    "import matplotlib.pyplot as plt\n",
    "from numpy import * \n",
    "from numpy.random import *\n",
    "plt.rcParams.update({'font.size': 22})"
   ]
  },
  {
   "cell_type": "code",
   "execution_count": 9,
   "metadata": {
    "kernel": "Julia 1.6.0",
    "slideshow": {
     "slide_type": "skip"
    }
   },
   "outputs": [],
   "source": [
    "using BenchmarkTools\n",
    "using Distributed\n",
    "using CUDA"
   ]
  },
  {
   "cell_type": "markdown",
   "metadata": {
    "kernel": "SoS",
    "slideshow": {
     "slide_type": "slide"
    }
   },
   "source": [
    "## The Julia Language \n",
    "\n",
    "Created by Jeff Bezanson, Stefan Karpinski, Viral B. Shah, and Alan Edelman. \n",
    "\n",
    "Work began in 2009. Now on version 1.6!\n",
    "\n",
    "Julia is:\n",
    "* High-level\n",
    "* Dynamic\n",
    "* High-performance\n"
   ]
  },
  {
   "cell_type": "markdown",
   "metadata": {
    "kernel": "SoS",
    "slideshow": {
     "slide_type": "notes"
    }
   },
   "source": [
    "Created by...\n",
    "\n",
    "Work began in 2009, version 1.0 in 2018. Now on version 1.6.\n",
    "\n",
    "Julia is a high-level, dynamic, high-performance programming language\n",
    "\n",
    "Try to define what this means ... am not computer scientist ... please correct me"
   ]
  },
  {
   "cell_type": "markdown",
   "metadata": {
    "kernel": "SoS",
    "slideshow": {
     "slide_type": "subslide"
    }
   },
   "source": [
    "### High-Level\n",
    "\n",
    "* Abstracts machine code\n",
    "* Uses natural language constructs\n",
    "* Python, Perl, Ruby, R, C(?), Fortran(?), ..."
   ]
  },
  {
   "cell_type": "markdown",
   "metadata": {
    "kernel": "SoS",
    "slideshow": {
     "slide_type": "subslide"
    }
   },
   "source": [
    "### Dynamic\n",
    "* Variable types are not declared\n",
    "* Features meta-programming, method/type extensions\n",
    "* Syntax is concise and human-readable\n",
    "* Python, Perl, Ruby, …"
   ]
  },
  {
   "cell_type": "markdown",
   "metadata": {
    "kernel": "Python3",
    "slideshow": {
     "slide_type": "notes"
    }
   },
   "source": [
    "Dynamic languages are usually dynamically typed, this means variable types do not have to be declared, and are instead inferred at runtime - often by something called an interpreter. \n",
    "\n",
    "They commonly feature the use of meta-programming to extend method and type definitions. Essentially allowing the code to modify itself at runtime by adding new functions to existing variable types, and inheriting or sharing behaviour between types and methods.\n",
    "\n",
    "Often this leads to more concise and more-easily readable code. It's usually considered advantageous for development, because it's simple to write and flexible for rapid prototyping and iterative improvements. \n",
    "\n",
    "Code written in dynamic languages is often re-used, because we can easily define abstract notions of types that are more widely applicable (think 200,000 Python packages). "
   ]
  },
  {
   "cell_type": "markdown",
   "metadata": {
    "kernel": "SoS",
    "slideshow": {
     "slide_type": "subslide"
    }
   },
   "source": [
    "### High-Performance\n",
    "* Fast and memory efficient\n",
    "* Readily scalable\n",
    "* Statically typed?\n",
    "* C, Fortran, …"
   ]
  },
  {
   "cell_type": "markdown",
   "metadata": {
    "kernel": "SoS",
    "slideshow": {
     "slide_type": "notes"
    }
   },
   "source": [
    "A high-performance language is one that is fast to execute, and is memory efficient. Programs are often written to be scalable, and often leverage parallel computing or multiprocessing methods, possibly on distributed computer systems.\n",
    "\n",
    "We also generally tend to associate high performance with statically typed languages. C and Fortran are the two big high-performance languages, and both are about as static as it gets. It's a sort of generally accepted notion that, as features of a programming language, dynamicism and high-performance don't really get on..."
   ]
  },
  {
   "cell_type": "markdown",
   "metadata": {
    "kernel": "SoS",
    "slideshow": {
     "slide_type": "subslide"
    }
   },
   "source": [
    "<center><img src=\"images/decision.jpg\"/></center>"
   ]
  },
  {
   "cell_type": "markdown",
   "metadata": {
    "kernel": "SoS",
    "slideshow": {
     "slide_type": "slide"
    }
   },
   "source": [
    "## Static vs. Dynamic Typing"
   ]
  },
  {
   "cell_type": "markdown",
   "metadata": {
    "kernel": "Python3",
    "slideshow": {
     "slide_type": "notes"
    }
   },
   "source": [
    "To explain why this is, we have to look at the difference between a dynamically typed language, and a statically typed language. I think the two that most people will be familiar with here are Fortran and Python, so we'll use those as case-studies and consider the procedure for performing something simple like integer addition.\n",
    "\n",
    "In Fortran all the variable types are known ahead of time. The compiler can convert the code ahead of time into a native language the computer understands. Then, when the program runs, it sends an instruction to the computer to add two integers, and the CPU executes an internal method for integer addition.\n",
    "\n",
    "In Python by comparison, the method is much more involved. Python (and other dynamic languages) are not compiled ahead of time. In fact, the types of all the variables isn't known until runtime, when the code is actually executed. At this point the interpreter gets a command to \"perform addition on two variables\". \n",
    "\n",
    "It then has to deduce the types of these variables, and perform some check that a method is defined for addition for the two variable types. Then the appropriate method can be compiled into machine code, and the CPU can finally perform the integer addition operation."
   ]
  },
  {
   "cell_type": "markdown",
   "metadata": {
    "kernel": "SoS",
    "slideshow": {
     "slide_type": "fragment"
    }
   },
   "source": [
    "**Fortran**\n",
    "\n",
    "1. \"Perform integer addition on two integers\"\n",
    "3. CPU performs integer addition operation"
   ]
  },
  {
   "cell_type": "markdown",
   "metadata": {
    "kernel": "SoS",
    "slideshow": {
     "slide_type": "fragment"
    }
   },
   "source": [
    "**Python**\n",
    "\n",
    "1. \"Perform addition on two variables\"\n",
    "2. Deduce variable types\n",
    "3. Perform checks (can I add these types?)\n",
    "4. Compile function\n",
    "5. CPU performs integer addition operation"
   ]
  },
  {
   "cell_type": "markdown",
   "metadata": {
    "kernel": "SoS",
    "slideshow": {
     "slide_type": "subslide"
    }
   },
   "source": [
    "## This Is So Slow!"
   ]
  },
  {
   "cell_type": "markdown",
   "metadata": {
    "kernel": "Python3",
    "slideshow": {
     "slide_type": "notes"
    }
   },
   "source": [
    "When we define a function like this in Python, the computer has no knowledge of the type of the variable `n`, it could be anything! Even in this simple example, there are three different functions calls with six different arguments. There's a list of nine different 'things' the interpreter has to interpret before it can even compile the code!"
   ]
  },
  {
   "cell_type": "markdown",
   "metadata": {
    "kernel": "SoS",
    "slideshow": {
     "slide_type": "-"
    }
   },
   "source": [
    "We have no knowledge of the variable `n`, it could be *anything*!"
   ]
  },
  {
   "cell_type": "code",
   "execution_count": null,
   "metadata": {
    "kernel": "Python3",
    "slideshow": {
     "slide_type": "-"
    }
   },
   "outputs": [],
   "source": [
    "def randmatmul(n):\n",
    "    A = rand(n,n)\n",
    "    B = rand(n,n)\n",
    "    return dot(A, B) "
   ]
  },
  {
   "cell_type": "markdown",
   "metadata": {
    "kernel": "SoS",
    "slideshow": {
     "slide_type": "fragment"
    }
   },
   "source": [
    "These steps need to be performed for *every* variable for *every* operation.\n",
    "\n",
    "> 3. Deduce variable types\n",
    "> 4. Perform checks (can I add these types?)\n",
    "> 5. Compile function\n",
    "\n",
    "This is comuptationally expensive, and often memory inefficient."
   ]
  },
  {
   "cell_type": "markdown",
   "metadata": {
    "kernel": "Python3",
    "slideshow": {
     "slide_type": "notes"
    }
   },
   "source": [
    "The extra overhead required to figure out what to do here is computationally expensive. \n",
    "\n",
    "Often dealing with abstract types is memory inefficient."
   ]
  },
  {
   "cell_type": "markdown",
   "metadata": {
    "kernel": "SoS",
    "slideshow": {
     "slide_type": "slide"
    }
   },
   "source": [
    "# What about Julia?"
   ]
  },
  {
   "cell_type": "markdown",
   "metadata": {
    "kernel": "Python3",
    "slideshow": {
     "slide_type": "notes"
    }
   },
   "source": [
    "So what about Julia? It claims to be dynamic *and* performant. Let's see if these claims hold any water."
   ]
  },
  {
   "cell_type": "markdown",
   "metadata": {
    "kernel": "SoS",
    "slideshow": {
     "slide_type": "slide"
    }
   },
   "source": [
    "## Is it Dynamic?\n",
    "\n",
    "Simple syntax:"
   ]
  },
  {
   "cell_type": "markdown",
   "metadata": {
    "kernel": "Python3",
    "slideshow": {
     "slide_type": "notes"
    }
   },
   "source": [
    "First of all, is it dynamic? Well it looks dynamic! In fact the syntax will look very familiar if you've used Python. Maybe this is on purpose - designed to make you feel at home. But it also has a few inklings of the high-performance languages we know and love, e.g `end` statement"
   ]
  },
  {
   "cell_type": "code",
   "execution_count": 5,
   "metadata": {
    "kernel": "Julia 1.6.0",
    "slideshow": {
     "slide_type": "-"
    }
   },
   "outputs": [
    {
     "data": {
      "text/plain": [
       "randmatmul (generic function with 1 method)"
      ]
     },
     "execution_count": 5,
     "metadata": {},
     "output_type": "execute_result"
    }
   ],
   "source": [
    "function randmatmul(n)\n",
    "  A = rand(n,n)\n",
    "  B = rand(n,n)\n",
    "  return  A*B\n",
    "end"
   ]
  },
  {
   "cell_type": "markdown",
   "metadata": {
    "kernel": "Julia 1.6.0",
    "slideshow": {
     "slide_type": "fragment"
    }
   },
   "source": [
    "Looks like Python!"
   ]
  },
  {
   "cell_type": "code",
   "execution_count": null,
   "metadata": {
    "kernel": "Python3",
    "slideshow": {
     "slide_type": "-"
    }
   },
   "outputs": [],
   "source": [
    "def randmatmul(n):\n",
    "    A = rand(n,n)\n",
    "    B = rand(n,n)\n",
    "    return numpy.dot(A, B) "
   ]
  },
  {
   "cell_type": "markdown",
   "metadata": {
    "kernel": "Python3",
    "slideshow": {
     "slide_type": "subslide"
    }
   },
   "source": [
    "Easier than Fortran!"
   ]
  },
  {
   "cell_type": "markdown",
   "metadata": {
    "kernel": "Python3",
    "slideshow": {
     "slide_type": "notes"
    }
   },
   "source": [
    "It's also definitely easier to learn and write than Fortran, and the statements are much more concise."
   ]
  },
  {
   "cell_type": "markdown",
   "metadata": {
    "kernel": "Python3",
    "slideshow": {
     "slide_type": "-"
    }
   },
   "source": [
    "```\n",
    "subroutine randmatmul(n, C)\n",
    "integer, intent(in) :: n\n",
    "real(dp), intent(out), allocatable :: C(:, :)\n",
    "real(dp), allocatable :: A(:, :), B(:, :)\n",
    "allocate(A(n, n), B(n, n), C(n, n))\n",
    "call random_number(A)\n",
    "call random_number(B)\n",
    "call dgemm('N','N',n,n,n,1.0d0,A,n,B,n,0.0d0,C,n)\n",
    "end subroutine\n",
    "```"
   ]
  },
  {
   "cell_type": "markdown",
   "metadata": {
    "kernel": "Python3",
    "slideshow": {
     "slide_type": "subslide"
    }
   },
   "source": [
    "Behaves like a dynamic language"
   ]
  },
  {
   "cell_type": "markdown",
   "metadata": {
    "kernel": "Python3",
    "slideshow": {
     "slide_type": "notes"
    }
   },
   "source": [
    "It behaves like a dynamic language too! We can mix integers and floats without declaring anything, and methods work on different types. Try some example snippets:\n",
    "\n",
    "```\n",
    "ones(5)\n",
    "\n",
    "sum(ones(5))\n",
    "\n",
    "sum(randmatmul(5))/length(randmatmul(5))\n",
    "```"
   ]
  },
  {
   "cell_type": "code",
   "execution_count": 11,
   "metadata": {
    "kernel": "Julia 1.6.0",
    "slideshow": {
     "slide_type": "fragment"
    }
   },
   "outputs": [
    {
     "name": "stdout",
     "output_type": "stream",
     "text": [
      "Hello World\n",
      "3.0\n"
     ]
    },
    {
     "data": {
      "text/plain": [
       "3"
      ]
     },
     "execution_count": 11,
     "metadata": {},
     "output_type": "execute_result"
    }
   ],
   "source": [
    "println(\"Hello World\\n\", 1 + 2.0)\n",
    "sum((1, 2 ))"
   ]
  },
  {
   "cell_type": "markdown",
   "metadata": {
    "kernel": "Python3",
    "slideshow": {
     "slide_type": "slide"
    }
   },
   "source": [
    "## Is It Performant?"
   ]
  },
  {
   "cell_type": "markdown",
   "metadata": {
    "kernel": "Julia 1.6.0",
    "slideshow": {
     "slide_type": "notes"
    }
   },
   "source": [
    "What about performance? Here's a list of times in milliseconds for routines that multiply two random matrices in various different languages. All the implementations are 'idiomatic', i.e using numpy for Python and LAPACK in Fortran. The underlying implementation in all these languages except Mathematica uses BLAS."
   ]
  },
  {
   "cell_type": "code",
   "execution_count": 13,
   "metadata": {
    "kernel": "Python3",
    "slideshow": {
     "slide_type": "skip"
    }
   },
   "outputs": [],
   "source": [
    "from IPython.display import HTML"
   ]
  },
  {
   "cell_type": "code",
   "execution_count": 15,
   "metadata": {
    "kernel": "Python3",
    "scrolled": false,
    "slideshow": {
     "slide_type": "-"
    }
   },
   "outputs": [
    {
     "data": {
      "text/html": [
       "<video alt=\"test\" width=100% controls> <source src=\"images/speed.mp4\" type=\"video/mp4\" autostart=\"false\"></video>"
      ],
      "text/plain": [
       "<IPython.core.display.HTML object>"
      ]
     },
     "execution_count": 15,
     "metadata": {},
     "output_type": "execute_result"
    }
   ],
   "source": [
    "HTML(\"\"\"<video alt=\"test\" width=100% controls> <source src=\"images/speed.mp4\" type=\"video/mp4\" autostart=\"false\"></video>\"\"\")"
   ]
  },
  {
   "cell_type": "markdown",
   "metadata": {
    "kernel": "Python3",
    "slideshow": {
     "slide_type": "subslide"
    }
   },
   "source": [
    "### Very Performant!"
   ]
  },
  {
   "cell_type": "markdown",
   "metadata": {
    "kernel": "Python3",
    "slideshow": {
     "slide_type": "notes"
    }
   },
   "source": [
    "Truth be told, I cherry-picked that data a bit. Matrix multiplication is actually where Julia does best. But I'm not being too deceptive, let's look at some other benchmarks, here we compare eight fairly typical computational procedures that you might find some analogous version of in scientific computing. \n",
    "\n",
    "The first thing we notice is that Matlab is very bad with strings. The second thing we notice is that Julia performs as well as C and Fortran, and is actually an order of magnitude faster than Fortran when dealing with strings and files. On that front, at least, Fortran could probably learn a thing or two from Julia.\n",
    "\n",
    "So what's the key to Julia's success? And why haven't other languages done it?\n",
    "\n",
    "`iteration_pi_sum` - calculate value of pi by summation\n",
    "\n",
    "`matrix_multiply` - idiomatic matrix multiplication (e.g numpy for Python, all use BLAS except Mathematica)\n",
    "\n",
    "`matrix_statistics` - calculate mean and std. dev. of random matrices\n",
    "\n",
    "`parse_strings` - parse string as integer 1000 times\n",
    "\n",
    "`print_to_file` - write 100,000 lines to file\n",
    "\n",
    "`recursion_fibonacci` - lazy fibonacci sequence\n",
    "\n",
    "`recursion_quicksort` - native implementation of quicksort algorithm\n",
    "\n",
    "`userfunc_mandelbrot` - calculate mandelbrot set"
   ]
  },
  {
   "cell_type": "code",
   "execution_count": null,
   "metadata": {
    "kernel": "Python3",
    "slideshow": {
     "slide_type": "skip"
    }
   },
   "outputs": [],
   "source": [
    "def plotbm():\n",
    "    langs = (\"r\", \"python\", \"matlab\", \"fortran\", \"julia\", \"c\")\n",
    "    response = urllib.request.urlopen('https://julialang.org/assets/benchmarks/benchmarks.csv')\n",
    "    lines = [l.decode('utf-8') for l in response.readlines()]\n",
    "    cr = csv.reader(lines)\n",
    "    df = pd.DataFrame(cr)\n",
    "    df = df.loc[df[0].isin(langs)]\n",
    "    fig = plt.figure()\n",
    "    fig.set_size_inches(12, 8)\n",
    "    for test in df[1].unique():\n",
    "        testres = df.loc[df[1] == test]\n",
    "        res = [testres.loc[testres[0] == i][2].astype(float) for i in langs]\n",
    "        plt.plot(langs, res, '.-', ms=20, lw=5, label=test)\n",
    "    plt.legend(bbox_to_anchor=(1.05, 1), loc='upper left')\n",
    "    plt.yscale(\"log\")\n",
    "    plt.grid(which='major', axis='y')\n",
    "    return"
   ]
  },
  {
   "cell_type": "code",
   "execution_count": 10,
   "metadata": {
    "kernel": "Python3",
    "slideshow": {
     "slide_type": "fragment"
    }
   },
   "outputs": [
    {
     "data": {
      "image/png": "[encoded data removed]",
      "text/plain": [
       "<Figure size 864x576 with 1 Axes>"
      ]
     },
     "metadata": {
      "needs_background": "light"
     },
     "output_type": "display_data"
    }
   ],
   "source": [
    "plotbm()"
   ]
  },
  {
   "cell_type": "markdown",
   "metadata": {
    "kernel": "Python3",
    "slideshow": {
     "slide_type": "fragment"
    }
   },
   "source": [
    "<center><img width=50% src=\"images/bean1.png\"/><img width=46% src=\"images/bean2.png\"/></center>"
   ]
  },
  {
   "cell_type": "markdown",
   "metadata": {
    "kernel": "Python3",
    "slideshow": {
     "slide_type": "slide"
    }
   },
   "source": [
    "# Multiple Dispatch\n",
    "## Julia's Programming Paradigm"
   ]
  },
  {
   "cell_type": "markdown",
   "metadata": {
    "kernel": "Python3",
    "slideshow": {
     "slide_type": "notes"
    }
   },
   "source": [
    "The revolution at the heart of Julia is it's central programming paradigm: multiple dispatch. We've established that dynamic languages have many different definitions for functions and operations depending on the argument types that are given to those functions. At runtime, when the types become concrete, the correct method for those types is chosen - this is known as dispatching.\n",
    "\n",
    "Static languages are \"zero dispatch\" - there is no choice of which method to use, because variables only have one type, and methods only accept fixed argument types.\n",
    "\n",
    "Dynamic languages, particularly object-oriented languages like Python, are single dispatch. "
   ]
  },
  {
   "cell_type": "markdown",
   "metadata": {
    "kernel": "Python3",
    "slideshow": {
     "slide_type": "fragment"
    }
   },
   "source": [
    "In a dynamic language functions and operations have multiple methods for different types\n",
    "\n",
    "At runtime, when types are known, the correct method for the type is chosen\n",
    "\n",
    "This is known as *dispatching*\n",
    "\n",
    "Static languages are \"zero dispatch\"\n",
    "\n",
    "Dynamic languages are usually single dispatch"
   ]
  },
  {
   "cell_type": "markdown",
   "metadata": {
    "kernel": "Python3",
    "slideshow": {
     "slide_type": "subslide"
    }
   },
   "source": [
    "### Single Dispatch Languages\n",
    "* In single dispatch languages types have methods.\n",
    "* Functions are dispatched to the type class of their first argument, e.g `add(1, 2.0) === 1.__add__(2.0)`\n",
    "* Behaviour that depends on the type of subsequent arguments is determined using `if`-`else`\n",
    "* This is how many dynamic languages, especially OOL work"
   ]
  },
  {
   "cell_type": "markdown",
   "metadata": {
    "kernel": "Python3",
    "slideshow": {
     "slide_type": "notes"
    }
   },
   "source": [
    "In a single dispatch language functions are associated with types.\n",
    "\n",
    "When you call a function with more than one argument, the function is *dispatched* to the first argument's type class\n",
    "\n",
    "The type's method then determines how to treat the subsequent arguments depending on their types.\n",
    "\n",
    "For example, if you call the `add` function on the variables `1` and `2.0`, the interpreter dispatches on the type of `1`, i.e the integer type. A series of `if`-`else` statements then determine how to add a float to the integer, by converting the integer to a float or vice versa.\n",
    "\n",
    "Show examples of methods belonging to different types."
   ]
  },
  {
   "cell_type": "code",
   "execution_count": null,
   "metadata": {
    "kernel": "Python3",
    "slideshow": {
     "slide_type": "fragment"
    }
   },
   "outputs": [],
   "source": [
    "import inspect\n",
    "inspect.getmembers(1)[:5]"
   ]
  },
  {
   "cell_type": "markdown",
   "metadata": {
    "kernel": "Python3",
    "slideshow": {
     "slide_type": "subslide"
    }
   },
   "source": [
    "### Multiple Dispatch Languages\n",
    "* Types do not have method properties\n",
    "* Functions have multiple definitions for different combinations of types\n",
    "* Functions are dispatched on the type of all arguments\n",
    "* A lookup table determines the most specific valid method"
   ]
  },
  {
   "cell_type": "markdown",
   "metadata": {
    "kernel": "Julia 1.6.0",
    "slideshow": {
     "slide_type": "notes"
    }
   },
   "source": [
    "In a multiple dispatch language, type classes do not have method properties. Instead, functions and operations like addition, subtraction, have multiple definitions for different combinations of argument types.\n",
    "\n",
    "The function is then dispatched to the appropriate definition based on the types of *all* the arguments, and the correct method is determined via a lookup table.\n",
    "\n",
    "Show examples of different method definitions for different types"
   ]
  },
  {
   "cell_type": "code",
   "execution_count": null,
   "metadata": {
    "kernel": "Julia 1.6.0",
    "slideshow": {
     "slide_type": "fragment"
    }
   },
   "outputs": [],
   "source": [
    "methods(+)"
   ]
  },
  {
   "cell_type": "markdown",
   "metadata": {
    "kernel": "Python3",
    "slideshow": {
     "slide_type": "slide"
    }
   },
   "source": [
    "## How is Julia so fast?"
   ]
  },
  {
   "cell_type": "markdown",
   "metadata": {
    "kernel": "Julia 1.6.0",
    "slideshow": {
     "slide_type": "notes"
    }
   },
   "source": [
    "So how does Julia *leverage* multiple dispatch to lend speed to a dynamic language?\n",
    "\n",
    "We start by writing a function that accepts arguments with arbitrary types - like we would in Python. At runtime, when the function is called, the actual types of the arguments are known. \n",
    "\n",
    "Julia then analyses the individual operations inside the function and dispatches them based on the concrete types of all the variables. It then compiles a static version of the function for the specific argument types that were parsed when the function was called - this is known as 'just-ahead-of-time' compilation. Compared to Python's just-in-time compilation where only the individual operations are ever compiled. \n",
    "\n",
    "The static version of the function can be re-used when the function is called again with the same argument types, and because it is static, it achieves the same speed and memory efficiency as static languages like C or Fortran."
   ]
  },
  {
   "cell_type": "markdown",
   "metadata": {
    "kernel": "Python3",
    "slideshow": {
     "slide_type": "fragment"
    }
   },
   "source": [
    "1. Write functions with arbitrary argument types"
   ]
  },
  {
   "cell_type": "markdown",
   "metadata": {
    "kernel": "Python3",
    "slideshow": {
     "slide_type": "fragment"
    }
   },
   "source": [
    "2. At runtime the argument types are known"
   ]
  },
  {
   "cell_type": "markdown",
   "metadata": {
    "kernel": "Python3",
    "slideshow": {
     "slide_type": "fragment"
    }
   },
   "source": [
    "3. Julia analyses the operations inside the function"
   ]
  },
  {
   "cell_type": "markdown",
   "metadata": {
    "kernel": "Python3",
    "slideshow": {
     "slide_type": "fragment"
    }
   },
   "source": [
    "4. Dispatch methods on concrete types of variables"
   ]
  },
  {
   "cell_type": "markdown",
   "metadata": {
    "kernel": "Python3",
    "slideshow": {
     "slide_type": "fragment"
    }
   },
   "source": [
    "5. Compile static version of the function"
   ]
  },
  {
   "cell_type": "markdown",
   "metadata": {
    "kernel": "Python3",
    "slideshow": {
     "slide_type": "fragment"
    }
   },
   "source": [
    "6. Re-use compiled code when function is called with the same types"
   ]
  },
  {
   "cell_type": "markdown",
   "metadata": {
    "kernel": "Julia 1.6.0",
    "slideshow": {
     "slide_type": "subslide"
    }
   },
   "source": [
    "### Just-ahead-of-time Compilation\n",
    "\n",
    "Using the `@code_llvm` macro, we can inspect the statically compiled code for a given function or operation"
   ]
  },
  {
   "cell_type": "markdown",
   "metadata": {
    "kernel": "Julia 1.6.0",
    "slideshow": {
     "slide_type": "notes"
    }
   },
   "source": [
    "Julia compiles the method code using the LLVM compiler, and the result is static code that is almost identical to the code you would get using C. \n",
    "\n",
    "We can show some examples to get a better idea of how this works using the LLVM macro, which prints out the static version of the function. The static code is specific to the combination of variable types we used. Compare the `int + int` and `int + float` methods shown here.\n",
    "\n",
    "This also works for custom functions. We can write a toy function for computing the hypotenuse of a triangle using Pythagoras' theorem, and use `@code_llvm` to show how Julia compiles static code for the whole function.\n",
    "\n",
    "```\n",
    "function pythag(a, b)\n",
    "    c2 = a^2 + b^2\n",
    "    return sqrt(c2)\n",
    "end\n",
    "\n",
    "@code_llvm pythag(1, 2)\n",
    "```"
   ]
  },
  {
   "cell_type": "code",
   "execution_count": 21,
   "metadata": {
    "kernel": "Julia 1.6.0",
    "scrolled": false,
    "slideshow": {
     "slide_type": "-"
    }
   },
   "outputs": [
    {
     "name": "stdout",
     "output_type": "stream",
     "text": [
      "\u001b[90m;  @ int.jl:87 within `+'\u001b[39m\n",
      "\u001b[90m; Function Attrs: uwtable\u001b[39m\n",
      "\u001b[95mdefine\u001b[39m \u001b[36mi64\u001b[39m \u001b[93m@\"julia_+_1703\"\u001b[39m\u001b[33m(\u001b[39m\u001b[36mi64\u001b[39m \u001b[95msignext\u001b[39m \u001b[0m%0\u001b[0m, \u001b[36mi64\u001b[39m \u001b[95msignext\u001b[39m \u001b[0m%1\u001b[33m)\u001b[39m \u001b[0m#0 \u001b[33m{\u001b[39m\n",
      "\u001b[91mtop:\u001b[39m\n",
      "  \u001b[0m%2 \u001b[0m= \u001b[96m\u001b[1madd\u001b[22m\u001b[39m \u001b[36mi64\u001b[39m \u001b[0m%1\u001b[0m, \u001b[0m%0\n",
      "  \u001b[96m\u001b[1mret\u001b[22m\u001b[39m \u001b[36mi64\u001b[39m \u001b[0m%2\n",
      "\u001b[33m}\u001b[39m\n"
     ]
    }
   ],
   "source": [
    "@code_llvm 1 + 2"
   ]
  },
  {
   "cell_type": "code",
   "execution_count": 22,
   "metadata": {
    "kernel": "Julia 1.6.0",
    "scrolled": true,
    "slideshow": {
     "slide_type": "-"
    }
   },
   "outputs": [
    {
     "name": "stdout",
     "output_type": "stream",
     "text": [
      "\u001b[90m;  @ promotion.jl:321 within `+'\u001b[39m\n",
      "\u001b[90m; Function Attrs: uwtable\u001b[39m\n",
      "\u001b[95mdefine\u001b[39m \u001b[36mdouble\u001b[39m \u001b[93m@\"julia_+_1731\"\u001b[39m\u001b[33m(\u001b[39m\u001b[36mdouble\u001b[39m \u001b[0m%0\u001b[0m, \u001b[36mi64\u001b[39m \u001b[95msignext\u001b[39m \u001b[0m%1\u001b[33m)\u001b[39m \u001b[0m#0 \u001b[33m{\u001b[39m\n",
      "\u001b[91mtop:\u001b[39m\n",
      "\u001b[90m; ┌ @ promotion.jl:292 within `promote'\u001b[39m\n",
      "\u001b[90m; │┌ @ promotion.jl:269 within `_promote'\u001b[39m\n",
      "\u001b[90m; ││┌ @ number.jl:7 within `convert'\u001b[39m\n",
      "\u001b[90m; │││┌ @ float.jl:94 within `Float64'\u001b[39m\n",
      "      \u001b[0m%2 \u001b[0m= \u001b[96m\u001b[1msitofp\u001b[22m\u001b[39m \u001b[36mi64\u001b[39m \u001b[0m%1 \u001b[95mto\u001b[39m \u001b[36mdouble\u001b[39m\n",
      "\u001b[90m; └└└└\u001b[39m\n",
      "\u001b[90m;  @ promotion.jl:321 within `+' @ float.jl:326\u001b[39m\n",
      "  \u001b[0m%3 \u001b[0m= \u001b[96m\u001b[1mfadd\u001b[22m\u001b[39m \u001b[36mdouble\u001b[39m \u001b[0m%2\u001b[0m, \u001b[0m%0\n",
      "\u001b[90m;  @ promotion.jl:321 within `+'\u001b[39m\n",
      "  \u001b[96m\u001b[1mret\u001b[22m\u001b[39m \u001b[36mdouble\u001b[39m \u001b[0m%3\n",
      "\u001b[33m}\u001b[39m\n"
     ]
    }
   ],
   "source": [
    "@code_ llvm 1.0 + 2"
   ]
  },
  {
   "cell_type": "markdown",
   "metadata": {
    "kernel": "Julia 1.6.0",
    "slideshow": {
     "slide_type": "slide"
    }
   },
   "source": [
    "# What's the Catch?"
   ]
  },
  {
   "cell_type": "markdown",
   "metadata": {
    "kernel": "Julia 1.6.0",
    "slideshow": {
     "slide_type": "fragment"
    }
   },
   "source": [
    "**There isn't one!**... but things to remember:"
   ]
  },
  {
   "cell_type": "markdown",
   "metadata": {
    "kernel": "Julia 1.6.0",
    "slideshow": {
     "slide_type": "notes"
    }
   },
   "source": [
    "It all most seems too good to be true right? As far as I can tell, it isn't!\n",
    "\n",
    "Actually the creators of Julia themselves have been quite suprised at how effective multiple dispatch with JAT compilation is. They gave a talk at the 2019 Julia conference titled \"The unreasonable effectiveness of multiple dispatch\""
   ]
  },
  {
   "cell_type": "markdown",
   "metadata": {
    "kernel": "Julia 1.6.0",
    "slideshow": {
     "slide_type": "subslide"
    }
   },
   "source": [
    "### Idiomatic Programming\n",
    "\n",
    "Julia's approach assumes functions are called with a limited combinations of types\n",
    "\n",
    "In practice this is almost always true,\n",
    "    $$ N_\\text{type combinations} \\ll N_\\text{function calls}$$"
   ]
  },
  {
   "cell_type": "markdown",
   "metadata": {
    "kernel": "Julia 1.6.0",
    "slideshow": {
     "slide_type": "notes"
    }
   },
   "source": [
    "The underlying assumption in Julia's multiple dispatch/JAT approach is that, even in a dynamic language, functions are usually called with a limited set of argument types.\n",
    "\n",
    "In practice this is almost always true, especially when considering compute-intensive functions in scientific applications. Roughly quantify it by asking whether the number of type combinations we expect for a given function is significantly less than the number of function calls."
   ]
  },
  {
   "cell_type": "markdown",
   "metadata": {
    "kernel": "Julia 1.6.0",
    "slideshow": {
     "slide_type": "subslide"
    }
   },
   "source": [
    "### Time to First Plot\n",
    "\n",
    "The first function call is slower than subsequent calls\n",
    "\n",
    "The code is re-compiled each time the program is run from scratch\n",
    "\n",
    "Libraries available to preserve compiled code between Julia sessions\n",
    "\n",
    "We can compile Julia into an executable if we want"
   ]
  },
  {
   "cell_type": "markdown",
   "metadata": {
    "kernel": "Julia 1.6.0",
    "slideshow": {
     "slide_type": "notes"
    }
   },
   "source": [
    "Because Julia compiles a static version of a function the first time you call that function with a given combination of argument types, the first call of a function will always be slow\n",
    "\n",
    "Because this is true every time you run a Julia session, the total runtime is always compile time + runtime, vs. a single compile for a static language\n",
    "\n",
    "But there are libraries that will preserve compiled code between Julia sessions, which is good for development and debugging\n",
    "\n",
    "And we can also compile Julia into an executable if we want, which is then as fast as traditional C or Fortran programs"
   ]
  },
  {
   "cell_type": "markdown",
   "metadata": {
    "kernel": "Julia 1.6.0",
    "slideshow": {
     "slide_type": "subslide"
    }
   },
   "source": [
    "### Type Stability\n",
    "\n",
    "Julia can only compile a static version of the code if the function is type-stable.\n",
    "* A method should always return the same type for a given pair of input types\n",
    "* Avoid changing variable types in performance-critical functions\n",
    "\n",
    "Julia specialises on concrete types at function barriers.\n",
    "\n",
    "If these are unavoidable then place the performance-critical part in a separate function "
   ]
  },
  {
   "cell_type": "markdown",
   "metadata": {
    "kernel": "Julia 1.6.0",
    "slideshow": {
     "slide_type": "notes"
    }
   },
   "source": [
    "Julia can only compile static code for a function if that function is type stable. This essentially means that a method should always return the same variable type for a given pair of input types. \n",
    "\n",
    "So if calling a function with string argument returns an integer, it should always return an integer when a string is provided, regardless of the value of that string. For example, don't set the return variable type based on the length of the input string.\n",
    "\n",
    "It is also best to avoid global variables, because global variable types can change at any time, and so Julia cannot compile a static version of the code.\n",
    "\n",
    "If either of these things are necessary, then the performance-critical part of the function should be kernelised into a separate, type-stable function."
   ]
  },
  {
   "cell_type": "markdown",
   "metadata": {
    "kernel": "Julia 1.6.0",
    "slideshow": {
     "slide_type": "subslide"
    }
   },
   "source": [
    "**Don't write this...**"
   ]
  },
  {
   "cell_type": "markdown",
   "metadata": {
    "kernel": "Julia 1.6.0",
    "slideshow": {
     "slide_type": "notes"
    }
   },
   "source": [
    "To give an idea, think about this function for filling a vector of length `n` with the value `2`, where the type of `2` is randomly chosen to be either an `Int64` or a `Float64`.\n",
    "\n",
    "Because the type of `a` cannot be determined until the function is actually run, Julia has to intepret this function dynamically, and cannot compile an efficient static version of the code."
   ]
  },
  {
   "cell_type": "code",
   "execution_count": null,
   "metadata": {
    "kernel": "Julia 1.6.0",
    "slideshow": {
     "slide_type": "fragment"
    }
   },
   "outputs": [],
   "source": [
    "function strange_twos_nokernel(n)\n",
    "   a = Vector{rand(Bool) ? Int64 : Float64}(undef, n)\n",
    "   for i = 1:n\n",
    "       a[i] = 2\n",
    "   end\n",
    "   return a\n",
    "end\n",
    "\n",
    "strange_twos_nokernel(5)"
   ]
  },
  {
   "cell_type": "markdown",
   "metadata": {
    "kernel": "Julia 1.6.0",
    "slideshow": {
     "slide_type": "subslide"
    }
   },
   "source": [
    "**Instead write this...**"
   ]
  },
  {
   "cell_type": "markdown",
   "metadata": {
    "kernel": "Julia 1.6.0",
    "slideshow": {
     "slide_type": "notes"
    }
   },
   "source": [
    "If instead we separate the a so-called 'kernel function', Julia can compile an efficient static version of the function `fill_twos!`, even if the outer function has to be run dynamically.\n",
    "\n",
    "This is because, by the time `fill_twos!` is run, they type of `a` has been determined, and Julia can dispatch on the concrete type - either `Int64` or `Float64`.\n",
    "\n",
    "Writing modular functions like this also lends itself to more code re-use, as the function `fill_twos!` is now generic and can be used to fill any iterable with the value `2`.\n",
    "\n",
    "e.g\n",
    "```\n",
    "a = Matrix{Float64}(undef, 10, 10)\n",
    "fill_twos!(a)\n",
    "a\n",
    "```"
   ]
  },
  {
   "cell_type": "code",
   "execution_count": null,
   "metadata": {
    "kernel": "Julia 1.6.0",
    "slideshow": {
     "slide_type": "fragment"
    }
   },
   "outputs": [],
   "source": [
    "function fill_twos!(a)\n",
    "   for i = eachindex(a)\n",
    "       a[i] = 2\n",
    "   end\n",
    "end;\n",
    "\n",
    "function strange_twos_kernel(n)\n",
    "   a = Vector{rand(Bool) ? Int64 : Float64}(undef, n)\n",
    "   fill_twos!(a)\n",
    "   return a\n",
    "end;"
   ]
  },
  {
   "cell_type": "code",
   "execution_count": null,
   "metadata": {
    "kernel": "Julia 1.6.0",
    "slideshow": {
     "slide_type": "subslide"
    }
   },
   "outputs": [],
   "source": [
    "n = 50000\n",
    "@benchmark strange_twos_nokernel($n)"
   ]
  },
  {
   "cell_type": "code",
   "execution_count": null,
   "metadata": {
    "kernel": "Julia 1.6.0",
    "slideshow": {
     "slide_type": "-"
    }
   },
   "outputs": [],
   "source": [
    "@benchmark strange_twos_kernel($n)"
   ]
  },
  {
   "cell_type": "markdown",
   "metadata": {
    "kernel": "Julia 1.6.0",
    "slideshow": {
     "slide_type": "slide"
    }
   },
   "source": [
    "# Julia is great!"
   ]
  },
  {
   "cell_type": "markdown",
   "metadata": {
    "kernel": "Julia 1.6.0",
    "slideshow": {
     "slide_type": "fragment"
    }
   },
   "source": [
    "**More than a language...**"
   ]
  },
  {
   "cell_type": "markdown",
   "metadata": {
    "kernel": "Julia 1.6.0",
    "slideshow": {
     "slide_type": "subslide"
    }
   },
   "source": [
    "<img style=\"padding-right: 50px\" width=25% align=\"left\" src=\"images/hm1.png\"/>\n",
    "<br>\n",
    "<br>\n",
    "\n",
    "* Call C and Fortran directly"
   ]
  },
  {
   "cell_type": "code",
   "execution_count": null,
   "metadata": {
    "kernel": "Julia 1.6.0",
    "slideshow": {
     "slide_type": "-"
    }
   },
   "outputs": [],
   "source": [
    "function compute_dot(DX::Vector{Float64}, DY::Vector{Float64})\n",
    "    @assert length(DX) == length(DY)\n",
    "    n = length(DX)\n",
    "    incx = incy = 1\n",
    "    product = ccall((:ddot_, \"libLAPACK\"),\n",
    "                    Float64,\n",
    "                    (Ref{Int32}, Ptr{Float64}, Ref{Int32}, Ptr{Float64}, Ref{Int32}),\n",
    "                    n, DX, incx, DY, incy)\n",
    "    return product\n",
    "end"
   ]
  },
  {
   "cell_type": "markdown",
   "metadata": {
    "kernel": "Julia 1.6.0",
    "slideshow": {
     "slide_type": "subslide"
    }
   },
   "source": [
    "<img style=\"padding-right: 50px\" width=25% align=\"left\" src=\"images/hm2.png\"/>\n",
    "<br>\n",
    "<br>\n",
    "\n",
    "* Vectorisation is idiomatic"
   ]
  },
  {
   "cell_type": "code",
   "execution_count": null,
   "metadata": {
    "kernel": "Julia 1.6.0",
    "slideshow": {
     "slide_type": "-"
    }
   },
   "outputs": [],
   "source": [
    "function polynomial(x::Number)\n",
    "    return 3*x^2 + 2*x + 1\n",
    "end\n",
    "\n",
    "xs = rand(5)\n",
    "ys = polynomial.(xs)\n",
    "print(xs, \"\\n\", ys)"
   ]
  },
  {
   "cell_type": "markdown",
   "metadata": {
    "kernel": "Julia 1.6.0",
    "slideshow": {
     "slide_type": "subslide"
    }
   },
   "source": [
    "<img style=\"padding-right: 50px\" width=25% align=\"left\" src=\"images/hm3.png\"/>\n",
    "<br>\n",
    "<br>\n",
    "\n",
    "* Built-in multithreading"
   ]
  },
  {
   "cell_type": "code",
   "execution_count": null,
   "metadata": {
    "kernel": "Julia 1.6.0",
    "slideshow": {
     "slide_type": "-"
    }
   },
   "outputs": [],
   "source": [
    "a = zeros(5)\n",
    "Threads.@threads for i = 1:5\n",
    "   a[i] = Threads.threadid()\n",
    "end\n",
    "a"
   ]
  },
  {
   "cell_type": "markdown",
   "metadata": {
    "kernel": "Julia 1.6.0",
    "slideshow": {
     "slide_type": "subslide"
    }
   },
   "source": [
    "<img style=\"padding-right: 50px\" width=25% align=\"left\" src=\"images/hm4.png\"/>\n",
    "<br>\n",
    "<br>\n",
    "\n",
    "* Built-in GPU computing"
   ]
  },
  {
   "cell_type": "code",
   "execution_count": null,
   "metadata": {
    "kernel": "Julia 1.6.0",
    "slideshow": {
     "slide_type": "-"
    }
   },
   "outputs": [],
   "source": [
    "N = 10^5\n",
    "x_d = CUDA.fill(1.0f0, N)\n",
    "y_d = CUDA.fill(2.0f0, N)\n",
    "function add_broadcast!(y, x)\n",
    "    CUDA.@sync y .+= x\n",
    "    return\n",
    "end\n",
    "@btime add_broadcast!($y_d, $x_d)"
   ]
  },
  {
   "cell_type": "markdown",
   "metadata": {
    "kernel": "Julia 1.6.0",
    "slideshow": {
     "slide_type": "subslide"
    }
   },
   "source": [
    "<img style=\"padding-right: 50px\" width=25% align=\"left\" src=\"images/hm5.png\"/>\n",
    "<br>\n",
    "<br>\n",
    "\n",
    "* Built-in multiprocessing and distributed computing"
   ]
  },
  {
   "cell_type": "code",
   "execution_count": null,
   "metadata": {
    "kernel": "Julia 1.6.0",
    "slideshow": {
     "slide_type": "-"
    }
   },
   "outputs": [],
   "source": [
    "nheads = @distributed (+) for i = 1:200000000\n",
    "    Int(rand(Bool))\n",
    "end"
   ]
  },
  {
   "cell_type": "markdown",
   "metadata": {
    "kernel": "Julia 1.6.0",
    "slideshow": {
     "slide_type": "slide"
    }
   },
   "source": [
    "## The Julia Ecosystem\n",
    "\n",
    "Julia has a REPL, debugger, and built-in package manager, with more than 4000 packages. "
   ]
  },
  {
   "cell_type": "code",
   "execution_count": null,
   "metadata": {
    "kernel": "Julia 1.6.0",
    "slideshow": {
     "slide_type": "-"
    }
   },
   "outputs": [],
   "source": [
    "using Pkg\n",
    "Pkg.add(\"LinearAlgebra\")"
   ]
  },
  {
   "cell_type": "markdown",
   "metadata": {
    "kernel": "Julia 1.6.0",
    "slideshow": {
     "slide_type": "subslide"
    }
   },
   "source": [
    "### Maths and Physics\n",
    "* `LinearAlgebra.jl` - Comprehensive dense linear algebra built on BLAS and LAPACK\n",
    "* `SparseArray.jl` - Linear algebra for sparse arrays\n",
    "* `Arpack.jl` - ARPACK routines for eigenvalue problems\n",
    "* `Fermi.jl` - Quantum chemistry package (under development)\n",
    "* `QuantumOptics.jl` - Inspired by MATLAB's Quantum Optics Toolbox and Python QuTiP\n",
    "* `Dierckx.jl` - Spline fitting and interpolation\n",
    "* `Optim.jl` + `LsqFit.jl` - Uni- and multi-variate optimisation, and least-squares fitting"
   ]
  },
  {
   "cell_type": "markdown",
   "metadata": {
    "kernel": "Julia 1.6.0",
    "slideshow": {
     "slide_type": "subslide"
    }
   },
   "source": [
    "### Machine Learning\n",
    "* `SciML.jl` - Partial differential equations for ML and physics-informed NNs\n",
    "* `Flux.jl` - Higher-level ML package (more like Keras?)\n",
    "* `Turing.jl` - Bayesian inference and probabilistic programming\n",
    "* `TensorFlow.jl` - Wrapper for using TensorFlow specifically\n",
    "* `RandomForests.jl` - Random forests in Julia"
   ]
  },
  {
   "cell_type": "markdown",
   "metadata": {
    "kernel": "Julia 1.6.0",
    "slideshow": {
     "slide_type": "subslide"
    }
   },
   "source": [
    "### General Purpose\n",
    "* `CSV.jl` - Fastest CSV parser in class, utilises Julia's multithreading\n",
    "* `Plots.jl` - Comprehensive plotting functionality, similar to `matplotlib.pyp~lot`\n",
    "* `PyCall.jl` - Call Python code in Julia\n",
    "* `PackageCompiler.jl` - Persistent compilation, or compile to executable\n",
    "* `DataFrames.jl` - Julia's version of `Pandas`\n",
    "* `Pluto.jl` - Reactive notebook in native Julia"
   ]
  },
  {
   "cell_type": "markdown",
   "metadata": {
    "kernel": "Julia 1.6.0",
    "slideshow": {
     "slide_type": "subslide"
    }
   },
   "source": [
    "### Growing Exponentially\n",
    "\n",
    "Cumulative Julia downloads have almost *doubled* in the last year! Most are using it for speed and performance. \n",
    "<table><tr>\n",
    "<td><img width=100% src=\"images/Julia-Adoption.png\"/> </td>\n",
    "<td><img width=100% src=\"images/Julia-Features-Liked.png\"/> </td>\n",
    "</tr></table>"
   ]
  }
 ],
 "metadata": {
  "celltoolbar": "Slideshow",
  "kernelspec": {
   "display_name": "SoS",
   "language": "sos",
   "name": "sos"
  },
  "language_info": {
   "codemirror_mode": "sos",
   "file_extension": ".sos",
   "mimetype": "text/x-sos",
   "name": "sos",
   "nbconvert_exporter": "sos_notebook.converter.SoS_Exporter",
   "pygments_lexer": "sos"
  },
  "sos": {
   "kernels": [
    [
     "Julia 1.6.0",
     "julia-1.6",
     "julia",
     "",
     ""
    ],
    [
     "Python3",
     "python3",
     "Python3",
     "#FFD91A",
     {
      "name": "ipython",
      "version": 3
     }
    ]
   ],
   "panel": {
    "displayed": true,
    "height": 0
   },
   "version": "0.22.3"
  }
 },
 "nbformat": 4,
 "nbformat_minor": 4
}